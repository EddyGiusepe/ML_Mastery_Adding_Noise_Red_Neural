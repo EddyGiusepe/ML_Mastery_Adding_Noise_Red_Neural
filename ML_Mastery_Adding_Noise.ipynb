{
  "nbformat": 4,
  "nbformat_minor": 0,
  "metadata": {
    "colab": {
      "name": "ML_Mastery_Adding_Noise.ipynb",
      "provenance": [],
      "authorship_tag": "ABX9TyN8MhKsBLYl0GH9iQhgk8pb",
      "include_colab_link": true
    },
    "kernelspec": {
      "name": "python3",
      "display_name": "Python 3"
    }
  },
  "cells": [
    {
      "cell_type": "markdown",
      "metadata": {
        "id": "view-in-github",
        "colab_type": "text"
      },
      "source": [
        "<a href=\"https://colab.research.google.com/github/EddyGiusepe/ML_Mastery_Adding_Noise_Red_Neural/blob/main/ML_Mastery_Adding_Noise.ipynb\" target=\"_parent\"><img src=\"https://colab.research.google.com/assets/colab-badge.svg\" alt=\"Open In Colab\"/></a>"
      ]
    },
    {
      "cell_type": "markdown",
      "metadata": {
        "id": "GntQ6OcDWGQw"
      },
      "source": [
        "# Adding noise numa Rede Neural\r\n",
        "\r\n",
        "Estudaremos e entenderemos que adicionar ruído a uma rede neural durante o treinamento pode melhorar a robustez da rede, resultando em uma melhor generalização e em um aprendizado mais rápido.\r\n",
        "\r\n",
        "Treinar uma rede neural com um pequeno conjunto de dados pode fazer com que a rede memorize todos os exemplos de treinamento, levando a um desempenho ruim em um conjunto de dados de validação.\r\n",
        "\r\n",
        "\r\n",
        "**Uma abordagem para tornar o espaço de entrada mais suave e fácil de aprender é adicionar ruído às entradas durante o treinamento**.\r\n",
        "\r\n",
        "A adição de ruído durante o treinamento de um modelo de rede neural tem um efeito de regularização e, por sua vez, melhora a robustez do modelo.\r\n",
        "\r\n",
        "\r\n",
        "O ruído pode ser adicionado ao seu modelo no ``Keras`` por meio da camada ``GaussianNoise``. Por exemplo:\r\n",
        "\r\n",
        "**model.add(GaussianNoise(0.1))​**\r\n",
        "\r\n",
        "\r\n",
        "O ruído pode ser adicionado a um modelo na camada de entrada ou entre camadas ocultas.\r\n",
        "\r\n",
        "O exemplo abaixo demonstra um modelo de Perceptron multicamadas com ruído adicionado entre as camadas ocultas em um problema de classificação binária."
      ]
    },
    {
      "cell_type": "markdown",
      "metadata": {
        "id": "ZaIv0teGW3Xd"
      },
      "source": [
        "## Importamos nossas livrarias"
      ]
    },
    {
      "cell_type": "code",
      "metadata": {
        "id": "s0lOPxDu6jd_"
      },
      "source": [
        "from sklearn.datasets import make_circles\r\n",
        "from keras.models import Sequential\r\n",
        "from keras.layers import Dense\r\n",
        "from keras.layers import GaussianNoise\r\n",
        "from matplotlib import pyplot"
      ],
      "execution_count": 1,
      "outputs": []
    },
    {
      "cell_type": "markdown",
      "metadata": {
        "id": "1SKzKQjlYkuS"
      },
      "source": [
        "## Geramos nosso Dataset"
      ]
    },
    {
      "cell_type": "code",
      "metadata": {
        "id": "1WyXBb4VYjFv"
      },
      "source": [
        "X, y = make_circles(n_samples=100, noise=0.1, random_state=1)"
      ],
      "execution_count": 2,
      "outputs": []
    },
    {
      "cell_type": "markdown",
      "metadata": {
        "id": "6_iyX4yqYte6"
      },
      "source": [
        "## Dividimos em Dados de treinamento e Dados de teste"
      ]
    },
    {
      "cell_type": "code",
      "metadata": {
        "id": "LArheNz8Ysao"
      },
      "source": [
        "n_train = 30\r\n",
        "trainX, testX = X[:n_train, :], X[n_train:, :]\r\n",
        "trainy, testy = y[:n_train], y[n_train:]"
      ],
      "execution_count": 3,
      "outputs": []
    },
    {
      "cell_type": "markdown",
      "metadata": {
        "id": "PscrLvqYY4VX"
      },
      "source": [
        "## Criamos nossa Rede Neuronal"
      ]
    },
    {
      "cell_type": "code",
      "metadata": {
        "id": "45p_qDMrY3JM"
      },
      "source": [
        "model = Sequential()\r\n",
        "\r\n",
        "model.add(Dense(500, input_dim=2, activation='relu'))\r\n",
        "model.add(GaussianNoise(0.1))\r\n",
        "model.add(Dense(1, activation='sigmoid'))"
      ],
      "execution_count": 4,
      "outputs": []
    },
    {
      "cell_type": "markdown",
      "metadata": {
        "id": "JQ0bESUgZBG5"
      },
      "source": [
        "## Compilamos nosso modelo"
      ]
    },
    {
      "cell_type": "code",
      "metadata": {
        "id": "Il26asTsY_9K"
      },
      "source": [
        "model.compile(loss='binary_crossentropy', optimizer='adam', metrics=['accuracy'])"
      ],
      "execution_count": 5,
      "outputs": []
    },
    {
      "cell_type": "markdown",
      "metadata": {
        "id": "e8euSCkqZNJ1"
      },
      "source": [
        "## Ajustamos nosso modelo"
      ]
    },
    {
      "cell_type": "code",
      "metadata": {
        "id": "0Qat6enRZJCB"
      },
      "source": [
        "history = model.fit(trainX, trainy, validation_data=(testX, testy), epochs=1000, verbose=0)"
      ],
      "execution_count": 6,
      "outputs": []
    },
    {
      "cell_type": "markdown",
      "metadata": {
        "id": "XbBpaSfIZWwN"
      },
      "source": [
        "## Avaliamos nossa Rede Neuronal"
      ]
    },
    {
      "cell_type": "code",
      "metadata": {
        "colab": {
          "base_uri": "https://localhost:8080/"
        },
        "id": "SPb2E5RnZUp4",
        "outputId": "9753f936-beee-4c44-b77f-15b607778f7b"
      },
      "source": [
        "_, train_acc = model.evaluate(trainX, trainy, verbose=1)\r\n",
        "_, test_acc = model.evaluate(testX, testy, verbose=1)"
      ],
      "execution_count": 7,
      "outputs": [
        {
          "output_type": "stream",
          "text": [
            "1/1 [==============================] - 0s 18ms/step - loss: 0.2096 - accuracy: 0.9667\n",
            "3/3 [==============================] - 0s 4ms/step - loss: 0.4389 - accuracy: 0.8000\n"
          ],
          "name": "stdout"
        }
      ]
    },
    {
      "cell_type": "code",
      "metadata": {
        "colab": {
          "base_uri": "https://localhost:8080/"
        },
        "id": "KhayVQrDZl8A",
        "outputId": "1aa39b46-94cc-453e-c2fc-74d209c75de8"
      },
      "source": [
        "print('Train: %.3f, Test: %.3f' % (train_acc, test_acc))"
      ],
      "execution_count": 8,
      "outputs": [
        {
          "output_type": "stream",
          "text": [
            "Train: 0.967, Test: 0.800\n"
          ],
          "name": "stdout"
        }
      ]
    },
    {
      "cell_type": "markdown",
      "metadata": {
        "id": "GnYvl_imZknm"
      },
      "source": [
        "## Graficamos as nossas curvas de aprendizagens"
      ]
    },
    {
      "cell_type": "code",
      "metadata": {
        "colab": {
          "base_uri": "https://localhost:8080/",
          "height": 278
        },
        "id": "guGDfr6BZyIy",
        "outputId": "e8f4fd61-4382-4456-84b3-e629d7df7aaf"
      },
      "source": [
        "# plot loss learning curves\r\n",
        "\r\n",
        "#pyplot.subplot(211)\r\n",
        "pyplot.title('Cross-Entropy Loss', pad=-40)\r\n",
        "pyplot.plot(history.history['loss'], label='train')\r\n",
        "pyplot.plot(history.history['val_loss'], label='test')\r\n",
        "pyplot.legend()\r\n",
        "pyplot.show()"
      ],
      "execution_count": 9,
      "outputs": [
        {
          "output_type": "display_data",
          "data": {
            "image/png": "[encoded data removed]",
            "text/plain": [
              "<Figure size 432x288 with 1 Axes>"
            ]
          },
          "metadata": {
            "tags": [],
            "needs_background": "light"
          }
        }
      ]
    },
    {
      "cell_type": "code",
      "metadata": {
        "colab": {
          "base_uri": "https://localhost:8080/",
          "height": 278
        },
        "id": "FPzVxorCbKr8",
        "outputId": "3cef7fca-a6dd-440c-e5b3-a357c4b0282e"
      },
      "source": [
        "# plot accuracy learning curves\r\n",
        "\r\n",
        "\r\n",
        "#pyplot.subplot(212)\r\n",
        "pyplot.title('Accuracy', pad=-40)\r\n",
        "pyplot.plot(history.history['accuracy'], label='train')\r\n",
        "pyplot.plot(history.history['val_accuracy'], label='test')\r\n",
        "pyplot.legend()\r\n",
        "pyplot.show()\r\n"
      ],
      "execution_count": 10,
      "outputs": [
        {
          "output_type": "display_data",
          "data": {
            "image/png": "[encoded data removed]",
            "text/plain": [
              "<Figure size 432x288 with 1 Axes>"
            ]
          },
          "metadata": {
            "tags": [],
            "needs_background": "light"
          }
        }
      ]
    },
    {
      "cell_type": "markdown",
      "metadata": {
        "id": "ClDe9QXyc3y-"
      },
      "source": [
        "**Nota:**\r\n",
        "Você pode executar o exemplo de código com e sem a adição de ruído e descrever o efeito que isso tem nas curvas de aprendizado durante o treinamento."
      ]
    },
    {
      "cell_type": "code",
      "metadata": {
        "id": "3AURrTLxbkCa"
      },
      "source": [
        ""
      ],
      "execution_count": null,
      "outputs": []
    }
  ]
}